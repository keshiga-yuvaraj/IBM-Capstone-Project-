{
  "nbformat": 4,
  "nbformat_minor": 0,
  "metadata": {
    "colab": {
      "provenance": []
    },
    "kernelspec": {
      "name": "python3",
      "display_name": "Python 3"
    },
    "language_info": {
      "name": "python"
    }
  },
  "cells": [
    {
      "cell_type": "markdown",
      "source": [
        "## **Exploratory Data Analysis Lab**"
      ],
      "metadata": {
        "id": "9BszdL7onxGs"
      }
    },
    {
      "cell_type": "code",
      "execution_count": 1,
      "metadata": {
        "id": "FYJ5wWfense6"
      },
      "outputs": [],
      "source": [
        "import pandas as pd"
      ]
    },
    {
      "cell_type": "code",
      "source": [
        "df = pd.read_csv(\"https://cf-courses-data.s3.us.cloud-object-storage.appdomain.cloud/IBM-DA0321EN-SkillsNetwork/LargeData/m2_survey_data.csv\")"
      ],
      "metadata": {
        "id": "hH5pqFuIn5Pw"
      },
      "execution_count": 2,
      "outputs": []
    },
    {
      "cell_type": "code",
      "source": [
        "df.head(5)"
      ],
      "metadata": {
        "colab": {
          "base_uri": "https://localhost:8080/",
          "height": 602
        },
        "id": "pZIG26MYn-CC",
        "outputId": "8368b06e-ebc8-4765-9a06-2824f4043499"
      },
      "execution_count": 3,
      "outputs": [
        {
          "output_type": "execute_result",
          "data": {
            "text/plain": [
              "   Respondent                      MainBranch Hobbyist  \\\n",
              "0           4  I am a developer by profession       No   \n",
              "1           9  I am a developer by profession      Yes   \n",
              "2          13  I am a developer by profession      Yes   \n",
              "3          16  I am a developer by profession      Yes   \n",
              "4          17  I am a developer by profession      Yes   \n",
              "\n",
              "                                         OpenSourcer  \\\n",
              "0                                              Never   \n",
              "1                         Once a month or more often   \n",
              "2  Less than once a month but more than once per ...   \n",
              "3                                              Never   \n",
              "4  Less than once a month but more than once per ...   \n",
              "\n",
              "                                          OpenSource          Employment  \\\n",
              "0  The quality of OSS and closed source software ...  Employed full-time   \n",
              "1  The quality of OSS and closed source software ...  Employed full-time   \n",
              "2  OSS is, on average, of HIGHER quality than pro...  Employed full-time   \n",
              "3  The quality of OSS and closed source software ...  Employed full-time   \n",
              "4  The quality of OSS and closed source software ...  Employed full-time   \n",
              "\n",
              "          Country Student                                            EdLevel  \\\n",
              "0   United States      No           Bachelor’s degree (BA, BS, B.Eng., etc.)   \n",
              "1     New Zealand      No  Some college/university study without earning ...   \n",
              "2   United States      No        Master’s degree (MA, MS, M.Eng., MBA, etc.)   \n",
              "3  United Kingdom      No        Master’s degree (MA, MS, M.Eng., MBA, etc.)   \n",
              "4       Australia      No           Bachelor’s degree (BA, BS, B.Eng., etc.)   \n",
              "\n",
              "                                      UndergradMajor  ...  \\\n",
              "0  Computer science, computer engineering, or sof...  ...   \n",
              "1  Computer science, computer engineering, or sof...  ...   \n",
              "2  Computer science, computer engineering, or sof...  ...   \n",
              "3                                                NaN  ...   \n",
              "4  Computer science, computer engineering, or sof...  ...   \n",
              "\n",
              "                              WelcomeChange  \\\n",
              "0   Just as welcome now as I felt last year   \n",
              "1   Just as welcome now as I felt last year   \n",
              "2  Somewhat more welcome now than last year   \n",
              "3   Just as welcome now as I felt last year   \n",
              "4   Just as welcome now as I felt last year   \n",
              "\n",
              "                                        SONewContent   Age Gender Trans  \\\n",
              "0  Tech articles written by other developers;Indu...  22.0    Man    No   \n",
              "1                                                NaN  23.0    Man    No   \n",
              "2  Tech articles written by other developers;Cour...  28.0    Man    No   \n",
              "3  Tech articles written by other developers;Indu...  26.0    Man    No   \n",
              "4  Tech articles written by other developers;Indu...  29.0    Man    No   \n",
              "\n",
              "                 Sexuality                              Ethnicity Dependents  \\\n",
              "0  Straight / Heterosexual           White or of European descent         No   \n",
              "1                 Bisexual           White or of European descent         No   \n",
              "2  Straight / Heterosexual           White or of European descent        Yes   \n",
              "3  Straight / Heterosexual           White or of European descent         No   \n",
              "4  Straight / Heterosexual  Hispanic or Latino/Latina;Multiracial         No   \n",
              "\n",
              "            SurveyLength                  SurveyEase  \n",
              "0  Appropriate in length                        Easy  \n",
              "1  Appropriate in length  Neither easy nor difficult  \n",
              "2  Appropriate in length                        Easy  \n",
              "3  Appropriate in length  Neither easy nor difficult  \n",
              "4  Appropriate in length                        Easy  \n",
              "\n",
              "[5 rows x 85 columns]"
            ],
            "text/html": [
              "\n",
              "  <div id=\"df-984eae55-4b38-44b4-81f1-c36bf4b38d4c\" class=\"colab-df-container\">\n",
              "    <div>\n",
              "<style scoped>\n",
              "    .dataframe tbody tr th:only-of-type {\n",
              "        vertical-align: middle;\n",
              "    }\n",
              "\n",
              "    .dataframe tbody tr th {\n",
              "        vertical-align: top;\n",
              "    }\n",
              "\n",
              "    .dataframe thead th {\n",
              "        text-align: right;\n",
              "    }\n",
              "</style>\n",
              "<table border=\"1\" class=\"dataframe\">\n",
              "  <thead>\n",
              "    <tr style=\"text-align: right;\">\n",
              "      <th></th>\n",
              "      <th>Respondent</th>\n",
              "      <th>MainBranch</th>\n",
              "      <th>Hobbyist</th>\n",
              "      <th>OpenSourcer</th>\n",
              "      <th>OpenSource</th>\n",
              "      <th>Employment</th>\n",
              "      <th>Country</th>\n",
              "      <th>Student</th>\n",
              "      <th>EdLevel</th>\n",
              "      <th>UndergradMajor</th>\n",
              "      <th>...</th>\n",
              "      <th>WelcomeChange</th>\n",
              "      <th>SONewContent</th>\n",
              "      <th>Age</th>\n",
              "      <th>Gender</th>\n",
              "      <th>Trans</th>\n",
              "      <th>Sexuality</th>\n",
              "      <th>Ethnicity</th>\n",
              "      <th>Dependents</th>\n",
              "      <th>SurveyLength</th>\n",
              "      <th>SurveyEase</th>\n",
              "    </tr>\n",
              "  </thead>\n",
              "  <tbody>\n",
              "    <tr>\n",
              "      <th>0</th>\n",
              "      <td>4</td>\n",
              "      <td>I am a developer by profession</td>\n",
              "      <td>No</td>\n",
              "      <td>Never</td>\n",
              "      <td>The quality of OSS and closed source software ...</td>\n",
              "      <td>Employed full-time</td>\n",
              "      <td>United States</td>\n",
              "      <td>No</td>\n",
              "      <td>Bachelor’s degree (BA, BS, B.Eng., etc.)</td>\n",
              "      <td>Computer science, computer engineering, or sof...</td>\n",
              "      <td>...</td>\n",
              "      <td>Just as welcome now as I felt last year</td>\n",
              "      <td>Tech articles written by other developers;Indu...</td>\n",
              "      <td>22.0</td>\n",
              "      <td>Man</td>\n",
              "      <td>No</td>\n",
              "      <td>Straight / Heterosexual</td>\n",
              "      <td>White or of European descent</td>\n",
              "      <td>No</td>\n",
              "      <td>Appropriate in length</td>\n",
              "      <td>Easy</td>\n",
              "    </tr>\n",
              "    <tr>\n",
              "      <th>1</th>\n",
              "      <td>9</td>\n",
              "      <td>I am a developer by profession</td>\n",
              "      <td>Yes</td>\n",
              "      <td>Once a month or more often</td>\n",
              "      <td>The quality of OSS and closed source software ...</td>\n",
              "      <td>Employed full-time</td>\n",
              "      <td>New Zealand</td>\n",
              "      <td>No</td>\n",
              "      <td>Some college/university study without earning ...</td>\n",
              "      <td>Computer science, computer engineering, or sof...</td>\n",
              "      <td>...</td>\n",
              "      <td>Just as welcome now as I felt last year</td>\n",
              "      <td>NaN</td>\n",
              "      <td>23.0</td>\n",
              "      <td>Man</td>\n",
              "      <td>No</td>\n",
              "      <td>Bisexual</td>\n",
              "      <td>White or of European descent</td>\n",
              "      <td>No</td>\n",
              "      <td>Appropriate in length</td>\n",
              "      <td>Neither easy nor difficult</td>\n",
              "    </tr>\n",
              "    <tr>\n",
              "      <th>2</th>\n",
              "      <td>13</td>\n",
              "      <td>I am a developer by profession</td>\n",
              "      <td>Yes</td>\n",
              "      <td>Less than once a month but more than once per ...</td>\n",
              "      <td>OSS is, on average, of HIGHER quality than pro...</td>\n",
              "      <td>Employed full-time</td>\n",
              "      <td>United States</td>\n",
              "      <td>No</td>\n",
              "      <td>Master’s degree (MA, MS, M.Eng., MBA, etc.)</td>\n",
              "      <td>Computer science, computer engineering, or sof...</td>\n",
              "      <td>...</td>\n",
              "      <td>Somewhat more welcome now than last year</td>\n",
              "      <td>Tech articles written by other developers;Cour...</td>\n",
              "      <td>28.0</td>\n",
              "      <td>Man</td>\n",
              "      <td>No</td>\n",
              "      <td>Straight / Heterosexual</td>\n",
              "      <td>White or of European descent</td>\n",
              "      <td>Yes</td>\n",
              "      <td>Appropriate in length</td>\n",
              "      <td>Easy</td>\n",
              "    </tr>\n",
              "    <tr>\n",
              "      <th>3</th>\n",
              "      <td>16</td>\n",
              "      <td>I am a developer by profession</td>\n",
              "      <td>Yes</td>\n",
              "      <td>Never</td>\n",
              "      <td>The quality of OSS and closed source software ...</td>\n",
              "      <td>Employed full-time</td>\n",
              "      <td>United Kingdom</td>\n",
              "      <td>No</td>\n",
              "      <td>Master’s degree (MA, MS, M.Eng., MBA, etc.)</td>\n",
              "      <td>NaN</td>\n",
              "      <td>...</td>\n",
              "      <td>Just as welcome now as I felt last year</td>\n",
              "      <td>Tech articles written by other developers;Indu...</td>\n",
              "      <td>26.0</td>\n",
              "      <td>Man</td>\n",
              "      <td>No</td>\n",
              "      <td>Straight / Heterosexual</td>\n",
              "      <td>White or of European descent</td>\n",
              "      <td>No</td>\n",
              "      <td>Appropriate in length</td>\n",
              "      <td>Neither easy nor difficult</td>\n",
              "    </tr>\n",
              "    <tr>\n",
              "      <th>4</th>\n",
              "      <td>17</td>\n",
              "      <td>I am a developer by profession</td>\n",
              "      <td>Yes</td>\n",
              "      <td>Less than once a month but more than once per ...</td>\n",
              "      <td>The quality of OSS and closed source software ...</td>\n",
              "      <td>Employed full-time</td>\n",
              "      <td>Australia</td>\n",
              "      <td>No</td>\n",
              "      <td>Bachelor’s degree (BA, BS, B.Eng., etc.)</td>\n",
              "      <td>Computer science, computer engineering, or sof...</td>\n",
              "      <td>...</td>\n",
              "      <td>Just as welcome now as I felt last year</td>\n",
              "      <td>Tech articles written by other developers;Indu...</td>\n",
              "      <td>29.0</td>\n",
              "      <td>Man</td>\n",
              "      <td>No</td>\n",
              "      <td>Straight / Heterosexual</td>\n",
              "      <td>Hispanic or Latino/Latina;Multiracial</td>\n",
              "      <td>No</td>\n",
              "      <td>Appropriate in length</td>\n",
              "      <td>Easy</td>\n",
              "    </tr>\n",
              "  </tbody>\n",
              "</table>\n",
              "<p>5 rows × 85 columns</p>\n",
              "</div>\n",
              "    <div class=\"colab-df-buttons\">\n",
              "\n",
              "  <div class=\"colab-df-container\">\n",
              "    <button class=\"colab-df-convert\" onclick=\"convertToInteractive('df-984eae55-4b38-44b4-81f1-c36bf4b38d4c')\"\n",
              "            title=\"Convert this dataframe to an interactive table.\"\n",
              "            style=\"display:none;\">\n",
              "\n",
              "  <svg xmlns=\"http://www.w3.org/2000/svg\" height=\"24px\" viewBox=\"0 -960 960 960\">\n",
              "    <path d=\"M120-120v-720h720v720H120Zm60-500h600v-160H180v160Zm220 220h160v-160H400v160Zm0 220h160v-160H400v160ZM180-400h160v-160H180v160Zm440 0h160v-160H620v160ZM180-180h160v-160H180v160Zm440 0h160v-160H620v160Z\"/>\n",
              "  </svg>\n",
              "    </button>\n",
              "\n",
              "  <style>\n",
              "    .colab-df-container {\n",
              "      display:flex;\n",
              "      gap: 12px;\n",
              "    }\n",
              "\n",
              "    .colab-df-convert {\n",
              "      background-color: #E8F0FE;\n",
              "      border: none;\n",
              "      border-radius: 50%;\n",
              "      cursor: pointer;\n",
              "      display: none;\n",
              "      fill: #1967D2;\n",
              "      height: 32px;\n",
              "      padding: 0 0 0 0;\n",
              "      width: 32px;\n",
              "    }\n",
              "\n",
              "    .colab-df-convert:hover {\n",
              "      background-color: #E2EBFA;\n",
              "      box-shadow: 0px 1px 2px rgba(60, 64, 67, 0.3), 0px 1px 3px 1px rgba(60, 64, 67, 0.15);\n",
              "      fill: #174EA6;\n",
              "    }\n",
              "\n",
              "    .colab-df-buttons div {\n",
              "      margin-bottom: 4px;\n",
              "    }\n",
              "\n",
              "    [theme=dark] .colab-df-convert {\n",
              "      background-color: #3B4455;\n",
              "      fill: #D2E3FC;\n",
              "    }\n",
              "\n",
              "    [theme=dark] .colab-df-convert:hover {\n",
              "      background-color: #434B5C;\n",
              "      box-shadow: 0px 1px 3px 1px rgba(0, 0, 0, 0.15);\n",
              "      filter: drop-shadow(0px 1px 2px rgba(0, 0, 0, 0.3));\n",
              "      fill: #FFFFFF;\n",
              "    }\n",
              "  </style>\n",
              "\n",
              "    <script>\n",
              "      const buttonEl =\n",
              "        document.querySelector('#df-984eae55-4b38-44b4-81f1-c36bf4b38d4c button.colab-df-convert');\n",
              "      buttonEl.style.display =\n",
              "        google.colab.kernel.accessAllowed ? 'block' : 'none';\n",
              "\n",
              "      async function convertToInteractive(key) {\n",
              "        const element = document.querySelector('#df-984eae55-4b38-44b4-81f1-c36bf4b38d4c');\n",
              "        const dataTable =\n",
              "          await google.colab.kernel.invokeFunction('convertToInteractive',\n",
              "                                                    [key], {});\n",
              "        if (!dataTable) return;\n",
              "\n",
              "        const docLinkHtml = 'Like what you see? Visit the ' +\n",
              "          '<a target=\"_blank\" href=https://colab.research.google.com/notebooks/data_table.ipynb>data table notebook</a>'\n",
              "          + ' to learn more about interactive tables.';\n",
              "        element.innerHTML = '';\n",
              "        dataTable['output_type'] = 'display_data';\n",
              "        await google.colab.output.renderOutput(dataTable, element);\n",
              "        const docLink = document.createElement('div');\n",
              "        docLink.innerHTML = docLinkHtml;\n",
              "        element.appendChild(docLink);\n",
              "      }\n",
              "    </script>\n",
              "  </div>\n",
              "\n",
              "\n",
              "<div id=\"df-441ca667-7ebf-4552-b75d-52a44d307a4c\">\n",
              "  <button class=\"colab-df-quickchart\" onclick=\"quickchart('df-441ca667-7ebf-4552-b75d-52a44d307a4c')\"\n",
              "            title=\"Suggest charts\"\n",
              "            style=\"display:none;\">\n",
              "\n",
              "<svg xmlns=\"http://www.w3.org/2000/svg\" height=\"24px\"viewBox=\"0 0 24 24\"\n",
              "     width=\"24px\">\n",
              "    <g>\n",
              "        <path d=\"M19 3H5c-1.1 0-2 .9-2 2v14c0 1.1.9 2 2 2h14c1.1 0 2-.9 2-2V5c0-1.1-.9-2-2-2zM9 17H7v-7h2v7zm4 0h-2V7h2v10zm4 0h-2v-4h2v4z\"/>\n",
              "    </g>\n",
              "</svg>\n",
              "  </button>\n",
              "\n",
              "<style>\n",
              "  .colab-df-quickchart {\n",
              "      --bg-color: #E8F0FE;\n",
              "      --fill-color: #1967D2;\n",
              "      --hover-bg-color: #E2EBFA;\n",
              "      --hover-fill-color: #174EA6;\n",
              "      --disabled-fill-color: #AAA;\n",
              "      --disabled-bg-color: #DDD;\n",
              "  }\n",
              "\n",
              "  [theme=dark] .colab-df-quickchart {\n",
              "      --bg-color: #3B4455;\n",
              "      --fill-color: #D2E3FC;\n",
              "      --hover-bg-color: #434B5C;\n",
              "      --hover-fill-color: #FFFFFF;\n",
              "      --disabled-bg-color: #3B4455;\n",
              "      --disabled-fill-color: #666;\n",
              "  }\n",
              "\n",
              "  .colab-df-quickchart {\n",
              "    background-color: var(--bg-color);\n",
              "    border: none;\n",
              "    border-radius: 50%;\n",
              "    cursor: pointer;\n",
              "    display: none;\n",
              "    fill: var(--fill-color);\n",
              "    height: 32px;\n",
              "    padding: 0;\n",
              "    width: 32px;\n",
              "  }\n",
              "\n",
              "  .colab-df-quickchart:hover {\n",
              "    background-color: var(--hover-bg-color);\n",
              "    box-shadow: 0 1px 2px rgba(60, 64, 67, 0.3), 0 1px 3px 1px rgba(60, 64, 67, 0.15);\n",
              "    fill: var(--button-hover-fill-color);\n",
              "  }\n",
              "\n",
              "  .colab-df-quickchart-complete:disabled,\n",
              "  .colab-df-quickchart-complete:disabled:hover {\n",
              "    background-color: var(--disabled-bg-color);\n",
              "    fill: var(--disabled-fill-color);\n",
              "    box-shadow: none;\n",
              "  }\n",
              "\n",
              "  .colab-df-spinner {\n",
              "    border: 2px solid var(--fill-color);\n",
              "    border-color: transparent;\n",
              "    border-bottom-color: var(--fill-color);\n",
              "    animation:\n",
              "      spin 1s steps(1) infinite;\n",
              "  }\n",
              "\n",
              "  @keyframes spin {\n",
              "    0% {\n",
              "      border-color: transparent;\n",
              "      border-bottom-color: var(--fill-color);\n",
              "      border-left-color: var(--fill-color);\n",
              "    }\n",
              "    20% {\n",
              "      border-color: transparent;\n",
              "      border-left-color: var(--fill-color);\n",
              "      border-top-color: var(--fill-color);\n",
              "    }\n",
              "    30% {\n",
              "      border-color: transparent;\n",
              "      border-left-color: var(--fill-color);\n",
              "      border-top-color: var(--fill-color);\n",
              "      border-right-color: var(--fill-color);\n",
              "    }\n",
              "    40% {\n",
              "      border-color: transparent;\n",
              "      border-right-color: var(--fill-color);\n",
              "      border-top-color: var(--fill-color);\n",
              "    }\n",
              "    60% {\n",
              "      border-color: transparent;\n",
              "      border-right-color: var(--fill-color);\n",
              "    }\n",
              "    80% {\n",
              "      border-color: transparent;\n",
              "      border-right-color: var(--fill-color);\n",
              "      border-bottom-color: var(--fill-color);\n",
              "    }\n",
              "    90% {\n",
              "      border-color: transparent;\n",
              "      border-bottom-color: var(--fill-color);\n",
              "    }\n",
              "  }\n",
              "</style>\n",
              "\n",
              "  <script>\n",
              "    async function quickchart(key) {\n",
              "      const quickchartButtonEl =\n",
              "        document.querySelector('#' + key + ' button');\n",
              "      quickchartButtonEl.disabled = true;  // To prevent multiple clicks.\n",
              "      quickchartButtonEl.classList.add('colab-df-spinner');\n",
              "      try {\n",
              "        const charts = await google.colab.kernel.invokeFunction(\n",
              "            'suggestCharts', [key], {});\n",
              "      } catch (error) {\n",
              "        console.error('Error during call to suggestCharts:', error);\n",
              "      }\n",
              "      quickchartButtonEl.classList.remove('colab-df-spinner');\n",
              "      quickchartButtonEl.classList.add('colab-df-quickchart-complete');\n",
              "    }\n",
              "    (() => {\n",
              "      let quickchartButtonEl =\n",
              "        document.querySelector('#df-441ca667-7ebf-4552-b75d-52a44d307a4c button');\n",
              "      quickchartButtonEl.style.display =\n",
              "        google.colab.kernel.accessAllowed ? 'block' : 'none';\n",
              "    })();\n",
              "  </script>\n",
              "</div>\n",
              "\n",
              "    </div>\n",
              "  </div>\n"
            ],
            "application/vnd.google.colaboratory.intrinsic+json": {
              "type": "dataframe",
              "variable_name": "df"
            }
          },
          "metadata": {},
          "execution_count": 3
        }
      ]
    },
    {
      "cell_type": "code",
      "source": [
        "df.info()"
      ],
      "metadata": {
        "colab": {
          "base_uri": "https://localhost:8080/"
        },
        "id": "lsXXJ_WQoAwq",
        "outputId": "98e39e77-17e9-46df-903a-705fe8e1aacd"
      },
      "execution_count": 4,
      "outputs": [
        {
          "output_type": "stream",
          "name": "stdout",
          "text": [
            "<class 'pandas.core.frame.DataFrame'>\n",
            "RangeIndex: 11398 entries, 0 to 11397\n",
            "Data columns (total 85 columns):\n",
            " #   Column                  Non-Null Count  Dtype  \n",
            "---  ------                  --------------  -----  \n",
            " 0   Respondent              11398 non-null  int64  \n",
            " 1   MainBranch              11398 non-null  object \n",
            " 2   Hobbyist                11398 non-null  object \n",
            " 3   OpenSourcer             11398 non-null  object \n",
            " 4   OpenSource              11317 non-null  object \n",
            " 5   Employment              11398 non-null  object \n",
            " 6   Country                 11398 non-null  object \n",
            " 7   Student                 11347 non-null  object \n",
            " 8   EdLevel                 11286 non-null  object \n",
            " 9   UndergradMajor          10661 non-null  object \n",
            " 10  EduOther                11234 non-null  object \n",
            " 11  OrgSize                 11302 non-null  object \n",
            " 12  DevType                 11333 non-null  object \n",
            " 13  YearsCode               11389 non-null  object \n",
            " 14  Age1stCode              11385 non-null  object \n",
            " 15  YearsCodePro            11382 non-null  object \n",
            " 16  CareerSat               11398 non-null  object \n",
            " 17  JobSat                  11397 non-null  object \n",
            " 18  MgrIdiot                10905 non-null  object \n",
            " 19  MgrMoney                10901 non-null  object \n",
            " 20  MgrWant                 10905 non-null  object \n",
            " 21  JobSeek                 11398 non-null  object \n",
            " 22  LastHireDate            11398 non-null  object \n",
            " 23  LastInt                 10985 non-null  object \n",
            " 24  FizzBuzz                11361 non-null  object \n",
            " 25  JobFactors              11395 non-null  object \n",
            " 26  ResumeUpdate            11359 non-null  object \n",
            " 27  CurrencySymbol          11398 non-null  object \n",
            " 28  CurrencyDesc            11398 non-null  object \n",
            " 29  CompTotal               10589 non-null  float64\n",
            " 30  CompFreq                11192 non-null  object \n",
            " 31  ConvertedComp           10582 non-null  float64\n",
            " 32  WorkWeekHrs             11276 non-null  float64\n",
            " 33  WorkPlan                11277 non-null  object \n",
            " 34  WorkChallenge           11234 non-null  object \n",
            " 35  WorkRemote              11390 non-null  object \n",
            " 36  WorkLoc                 11366 non-null  object \n",
            " 37  ImpSyn                  11393 non-null  object \n",
            " 38  CodeRev                 11397 non-null  object \n",
            " 39  CodeRevHrs              8972 non-null   float64\n",
            " 40  UnitTests               11369 non-null  object \n",
            " 41  PurchaseHow             11202 non-null  object \n",
            " 42  PurchaseWhat            11360 non-null  object \n",
            " 43  LanguageWorkedWith      11387 non-null  object \n",
            " 44  LanguageDesireNextYear  11264 non-null  object \n",
            " 45  DatabaseWorkedWith      10945 non-null  object \n",
            " 46  DatabaseDesireNextYear  10356 non-null  object \n",
            " 47  PlatformWorkedWith      10987 non-null  object \n",
            " 48  PlatformDesireNextYear  10854 non-null  object \n",
            " 49  WebFrameWorkedWith      10005 non-null  object \n",
            " 50  WebFrameDesireNextYear  9781 non-null   object \n",
            " 51  MiscTechWorkedWith      9216 non-null   object \n",
            " 52  MiscTechDesireNextYear  9943 non-null   object \n",
            " 53  DevEnviron              11369 non-null  object \n",
            " 54  OpSys                   11364 non-null  object \n",
            " 55  Containers              11316 non-null  object \n",
            " 56  BlockchainOrg           9076 non-null   object \n",
            " 57  BlockchainIs            8788 non-null   object \n",
            " 58  BetterLife              11300 non-null  object \n",
            " 59  ITperson                11363 non-null  object \n",
            " 60  OffOn                   11360 non-null  object \n",
            " 61  SocialMedia             11105 non-null  object \n",
            " 62  Extraversion            11378 non-null  object \n",
            " 63  ScreenName              10891 non-null  object \n",
            " 64  SOVisit1st              11073 non-null  object \n",
            " 65  SOVisitFreq             11393 non-null  object \n",
            " 66  SOVisitTo               11397 non-null  object \n",
            " 67  SOFindAnswer            11395 non-null  object \n",
            " 68  SOTimeSaved             11348 non-null  object \n",
            " 69  SOHowMuchTime           9481 non-null   object \n",
            " 70  SOAccount               11397 non-null  object \n",
            " 71  SOPartFreq              10270 non-null  object \n",
            " 72  SOJobs                  11392 non-null  object \n",
            " 73  EntTeams                11393 non-null  object \n",
            " 74  SOComm                  11398 non-null  object \n",
            " 75  WelcomeChange           11313 non-null  object \n",
            " 76  SONewContent            9433 non-null   object \n",
            " 77  Age                     11111 non-null  float64\n",
            " 78  Gender                  11325 non-null  object \n",
            " 79  Trans                   11275 non-null  object \n",
            " 80  Sexuality               10856 non-null  object \n",
            " 81  Ethnicity               10723 non-null  object \n",
            " 82  Dependents              11258 non-null  object \n",
            " 83  SurveyLength            11379 non-null  object \n",
            " 84  SurveyEase              11384 non-null  object \n",
            "dtypes: float64(5), int64(1), object(79)\n",
            "memory usage: 7.4+ MB\n"
          ]
        }
      ]
    },
    {
      "cell_type": "markdown",
      "source": [
        "## Distribution\n"
      ],
      "metadata": {
        "id": "oz_S4TSBoIzc"
      }
    },
    {
      "cell_type": "markdown",
      "source": [
        "### Determine how the data is distributed\n",
        "\n",
        "The column ConvertedComp contains Salary converted to annual USD salaries using the exchange rate on 2019-02-01.\n",
        "\n",
        "This assumes 12 working months and 50 working weeks.\n",
        "\n",
        "\n",
        "Plot the distribution curve for the column `ConvertedComp`.\n",
        "\n"
      ],
      "metadata": {
        "id": "tjk2gvtQoTl7"
      }
    },
    {
      "cell_type": "code",
      "source": [
        "import seaborn as sns"
      ],
      "metadata": {
        "id": "ZAdx0tc1ofwO"
      },
      "execution_count": 6,
      "outputs": []
    },
    {
      "cell_type": "code",
      "source": [
        "import matplotlib.pyplot as plt"
      ],
      "metadata": {
        "id": "w3LszvL9oo9M"
      },
      "execution_count": 10,
      "outputs": []
    },
    {
      "cell_type": "code",
      "source": [
        "sns.distplot(df['ConvertedComp'], hist = False, kde = True,\n",
        "             kde_kws = {'linewidth': 3})\n",
        "\n",
        "# Plot formatting\n",
        "plt.title('Density Curve of Converted Compensation')\n",
        "plt.xlabel('Annual USD Salaries')\n",
        "plt.ylabel('Number of Respondents')"
      ],
      "metadata": {
        "colab": {
          "base_uri": "https://localhost:8080/",
          "height": 680
        },
        "id": "dRCFKls6oB-f",
        "outputId": "54f0e1b5-c227-43a5-9f55-c85c8607f96d"
      },
      "execution_count": 11,
      "outputs": [
        {
          "output_type": "stream",
          "name": "stderr",
          "text": [
            "<ipython-input-11-fec7f4f4709d>:1: UserWarning: \n",
            "\n",
            "`distplot` is a deprecated function and will be removed in seaborn v0.14.0.\n",
            "\n",
            "Please adapt your code to use either `displot` (a figure-level function with\n",
            "similar flexibility) or `kdeplot` (an axes-level function for kernel density plots).\n",
            "\n",
            "For a guide to updating your code to use the new functions, please see\n",
            "https://gist.github.com/mwaskom/de44147ed2974457ad6372750bbe5751\n",
            "\n",
            "  sns.distplot(df['ConvertedComp'], hist = False, kde = True,\n"
          ]
        },
        {
          "output_type": "execute_result",
          "data": {
            "text/plain": [
              "Text(0, 0.5, 'Number of Respondents')"
            ]
          },
          "metadata": {},
          "execution_count": 11
        },
        {
          "output_type": "display_data",
          "data": {
            "text/plain": [
              "<Figure size 640x480 with 1 Axes>"
            ],
            "image/png": "[encoded data removed]"
          },
          "metadata": {}
        }
      ]
    },
    {
      "cell_type": "markdown",
      "source": [
        "Plot the histogram for the column `ConvertedComp`.\n"
      ],
      "metadata": {
        "id": "KnjnUHp9ozu5"
      }
    },
    {
      "cell_type": "code",
      "source": [
        "df['ConvertedComp'].plot(kind='hist', figsize=(8, 5))\n",
        "\n",
        "# add a title to the histogram\n",
        "plt.title('Histogram of Converted Compensation')\n",
        "# add y-label\n",
        "plt.ylabel('Number of Respondents')\n",
        "# add x-label\n",
        "plt.xlabel('Annual USD Salaries')\n",
        "\n",
        "plt.show()"
      ],
      "metadata": {
        "colab": {
          "base_uri": "https://localhost:8080/",
          "height": 487
        },
        "id": "XEUcnJqSod6Z",
        "outputId": "5b79c774-0453-4b52-a7ee-85db3fa14dec"
      },
      "execution_count": 12,
      "outputs": [
        {
          "output_type": "display_data",
          "data": {
            "text/plain": [
              "<Figure size 800x500 with 1 Axes>"
            ],
            "image/png": "[encoded data removed]"
          },
          "metadata": {}
        }
      ]
    },
    {
      "cell_type": "markdown",
      "source": [
        "What is the median of the column `ConvertedComp`?\n"
      ],
      "metadata": {
        "id": "pkFnti_Po3uA"
      }
    },
    {
      "cell_type": "code",
      "source": [
        "df['ConvertedComp'].median()\n"
      ],
      "metadata": {
        "colab": {
          "base_uri": "https://localhost:8080/"
        },
        "id": "UhSJC_x1o4Y3",
        "outputId": "cbc7d4f8-97b4-4dce-b846-871a62a9a891"
      },
      "execution_count": 13,
      "outputs": [
        {
          "output_type": "execute_result",
          "data": {
            "text/plain": [
              "57745.0"
            ]
          },
          "metadata": {},
          "execution_count": 13
        }
      ]
    },
    {
      "cell_type": "markdown",
      "source": [
        "How many responders identified themselves only as a **Man**?\n"
      ],
      "metadata": {
        "id": "FAjYrwVBo449"
      }
    },
    {
      "cell_type": "code",
      "source": [
        "df['Gender'].value_counts()\n"
      ],
      "metadata": {
        "colab": {
          "base_uri": "https://localhost:8080/"
        },
        "id": "F53BPiwEpVBV",
        "outputId": "df9fa979-8d80-481a-f2b9-b38bfc630e22"
      },
      "execution_count": 14,
      "outputs": [
        {
          "output_type": "execute_result",
          "data": {
            "text/plain": [
              "Gender\n",
              "Man                                                            10480\n",
              "Woman                                                            731\n",
              "Non-binary, genderqueer, or gender non-conforming                 63\n",
              "Man;Non-binary, genderqueer, or gender non-conforming             26\n",
              "Woman;Non-binary, genderqueer, or gender non-conforming           14\n",
              "Woman;Man                                                          9\n",
              "Woman;Man;Non-binary, genderqueer, or gender non-conforming        2\n",
              "Name: count, dtype: int64"
            ]
          },
          "metadata": {},
          "execution_count": 14
        }
      ]
    },
    {
      "cell_type": "markdown",
      "source": [
        "Find out the  median ConvertedComp of responders identified themselves only as a **Woman**?\n"
      ],
      "metadata": {
        "id": "Vj2R4UCvo43a"
      }
    },
    {
      "cell_type": "code",
      "source": [
        "df.loc[(df['Gender'] == 'Woman'), 'ConvertedComp'].median()\n"
      ],
      "metadata": {
        "colab": {
          "base_uri": "https://localhost:8080/"
        },
        "id": "pf3K4iGkpZ-I",
        "outputId": "a12208d1-2942-419f-e10f-f8bddd216e99"
      },
      "execution_count": 15,
      "outputs": [
        {
          "output_type": "execute_result",
          "data": {
            "text/plain": [
              "57708.0"
            ]
          },
          "metadata": {},
          "execution_count": 15
        }
      ]
    },
    {
      "cell_type": "markdown",
      "source": [
        "Give the five number summary for the column `Age`?\n"
      ],
      "metadata": {
        "id": "TRdqC5tmpbGa"
      }
    },
    {
      "cell_type": "code",
      "source": [
        "df['Age'].describe()\n"
      ],
      "metadata": {
        "colab": {
          "base_uri": "https://localhost:8080/"
        },
        "id": "-4agz2GQpaxm",
        "outputId": "878f3d64-ea08-4d7b-85f3-3d581ba758c6"
      },
      "execution_count": 16,
      "outputs": [
        {
          "output_type": "execute_result",
          "data": {
            "text/plain": [
              "count    11111.000000\n",
              "mean        30.778895\n",
              "std          7.393686\n",
              "min         16.000000\n",
              "25%         25.000000\n",
              "50%         29.000000\n",
              "75%         35.000000\n",
              "max         99.000000\n",
              "Name: Age, dtype: float64"
            ]
          },
          "metadata": {},
          "execution_count": 16
        }
      ]
    },
    {
      "cell_type": "markdown",
      "source": [
        "Plot a histogram of the column `Age`.\n"
      ],
      "metadata": {
        "id": "gkXb2p5zpjYs"
      }
    },
    {
      "cell_type": "code",
      "source": [
        "df['Age'].plot(kind='hist', figsize=(8, 6))\n",
        "\n",
        "plt.title(\"Histogram of Respondent's Age\")\n",
        "plt.ylabel('Number of Respondents')\n",
        "plt.xlabel('Interval Age')\n",
        "\n",
        "plt.show()"
      ],
      "metadata": {
        "colab": {
          "base_uri": "https://localhost:8080/",
          "height": 564
        },
        "id": "Evye1vBHpavr",
        "outputId": "070f28e5-a4e8-4e90-f46f-3f47f4da33eb"
      },
      "execution_count": 17,
      "outputs": [
        {
          "output_type": "display_data",
          "data": {
            "text/plain": [
              "<Figure size 800x600 with 1 Axes>"
            ],
            "image/png": "[encoded data removed]"
          },
          "metadata": {}
        }
      ]
    },
    {
      "cell_type": "markdown",
      "source": [
        "## Outliers\n"
      ],
      "metadata": {
        "id": "sA7vEFk1pku7"
      }
    },
    {
      "cell_type": "markdown",
      "source": [
        "### Finding outliers\n",
        "\n",
        "\n",
        "Find out if outliers exist in the column `ConvertedComp` using a box plot?\n"
      ],
      "metadata": {
        "id": "gYUUs8vkpm6d"
      }
    },
    {
      "cell_type": "code",
      "source": [
        "# import matplotlib.pyplot as plt\n",
        "\n",
        "\n",
        "df['ConvertedComp'].plot(kind='box', figsize=(8, 6))\n",
        "\n",
        "plt.title('Distribution Data of Converted Compensation')\n",
        "plt.ylabel('Annual USD Salary')\n",
        "\n",
        "plt.show()\n"
      ],
      "metadata": {
        "colab": {
          "base_uri": "https://localhost:8080/",
          "height": 545
        },
        "id": "NR8HF9XvpauT",
        "outputId": "f8b3dda3-79a0-4176-bb40-5fcc1e237f67"
      },
      "execution_count": 18,
      "outputs": [
        {
          "output_type": "display_data",
          "data": {
            "text/plain": [
              "<Figure size 800x600 with 1 Axes>"
            ],
            "image/png": "[encoded data removed]"
          },
          "metadata": {}
        }
      ]
    },
    {
      "cell_type": "markdown",
      "source": [
        "Find out the Inter Quartile Range for the column `ConvertedComp`.\n"
      ],
      "metadata": {
        "id": "jFJpid8LqJvX"
      }
    },
    {
      "cell_type": "code",
      "source": [
        "df['ConvertedComp'].describe()\n"
      ],
      "metadata": {
        "colab": {
          "base_uri": "https://localhost:8080/"
        },
        "id": "YaX96ViIqO5L",
        "outputId": "ce6fadb5-9716-4e29-dd50-0d9004ac9069"
      },
      "execution_count": 19,
      "outputs": [
        {
          "output_type": "execute_result",
          "data": {
            "text/plain": [
              "count    1.058200e+04\n",
              "mean     1.315967e+05\n",
              "std      2.947865e+05\n",
              "min      0.000000e+00\n",
              "25%      2.686800e+04\n",
              "50%      5.774500e+04\n",
              "75%      1.000000e+05\n",
              "max      2.000000e+06\n",
              "Name: ConvertedComp, dtype: float64"
            ]
          },
          "metadata": {},
          "execution_count": 19
        }
      ]
    },
    {
      "cell_type": "code",
      "source": [
        "# Q1, Q3, and IQR\n",
        "Q1 = df['ConvertedComp'].quantile(0.25)\n",
        "Q3 = df['ConvertedComp'].quantile(0.75)\n",
        "IQR = Q3 - Q1\n",
        "IQR"
      ],
      "metadata": {
        "colab": {
          "base_uri": "https://localhost:8080/"
        },
        "id": "2WuFShKvraDK",
        "outputId": "ec5d5ca5-b1a4-4c43-9d5d-c7c17a9fc111"
      },
      "execution_count": 20,
      "outputs": [
        {
          "output_type": "execute_result",
          "data": {
            "text/plain": [
              "73132.0"
            ]
          },
          "metadata": {},
          "execution_count": 20
        }
      ]
    },
    {
      "cell_type": "markdown",
      "source": [
        "Find out the upper and lower bounds.\n"
      ],
      "metadata": {
        "id": "1Om-5NXwqJt8"
      }
    },
    {
      "cell_type": "code",
      "source": [
        "up_bounds = Q3 + 1.5 * IQR\n",
        "print('Upper Bounds :', upper_bounds)\n",
        "lw_bounds = Q1 - 1.5*IQR\n",
        "print('Lower Bounds :', lower_bounds)"
      ],
      "metadata": {
        "colab": {
          "base_uri": "https://localhost:8080/"
        },
        "id": "DhkKp582qR8j",
        "outputId": "81d405b3-cef4-47e8-8197-130045a488d5"
      },
      "execution_count": 31,
      "outputs": [
        {
          "output_type": "stream",
          "name": "stdout",
          "text": [
            "Upper Bounds : 209698.0\n",
            "Lower Bounds : -82830.0\n"
          ]
        }
      ]
    },
    {
      "cell_type": "markdown",
      "source": [
        "Identify how many outliers are there in the `ConvertedComp` column.\n"
      ],
      "metadata": {
        "id": "e28Q6JjFqSbk"
      }
    },
    {
      "cell_type": "code",
      "source": [
        "outlier =[]\n",
        "for x in df['ConvertedComp']:\n",
        "  if ((x > up_bounds) or (x < lw_bounds)):\n",
        "    outlier.append(x)\n",
        "print(' outlier in the ConvertedComp column is', len(outlier))"
      ],
      "metadata": {
        "colab": {
          "base_uri": "https://localhost:8080/"
        },
        "id": "2Tc7vxmhqU_d",
        "outputId": "ee4af0f9-1e4c-4954-b42a-469a12ee9b86"
      },
      "execution_count": 32,
      "outputs": [
        {
          "output_type": "stream",
          "name": "stdout",
          "text": [
            " outlier in the ConvertedComp column is 879\n"
          ]
        }
      ]
    },
    {
      "cell_type": "markdown",
      "source": [
        "Create a new dataframe by removing the outliers from the `ConvertedComp` column.\n"
      ],
      "metadata": {
        "id": "SL7tQ6liqVqK"
      }
    },
    {
      "cell_type": "code",
      "source": [
        "# Removing outliers\n",
        "df_removed_outlier = df['ConvertedComp'][~((df['ConvertedComp'] < lw_bounds) |\n",
        "                                           (df['ConvertedComp'] > up_bounds))]"
      ],
      "metadata": {
        "id": "PVtJECenqZnK"
      },
      "execution_count": 33,
      "outputs": []
    },
    {
      "cell_type": "code",
      "source": [
        "df['ConvertedComp'].quantile(0.5)\n"
      ],
      "metadata": {
        "colab": {
          "base_uri": "https://localhost:8080/"
        },
        "id": "e7dkA_ahrn-x",
        "outputId": "eac0bbb6-aaa2-474c-af96-f03d6050f571"
      },
      "execution_count": 34,
      "outputs": [
        {
          "output_type": "execute_result",
          "data": {
            "text/plain": [
              "57745.0"
            ]
          },
          "metadata": {},
          "execution_count": 34
        }
      ]
    },
    {
      "cell_type": "code",
      "source": [
        "outl_index = df[(df.ConvertedComp < lw_bounds) | (df.ConvertedComp > up_bounds)].index\n",
        "\n",
        "df_outl = df.drop(outl_index)\n",
        "df_outl.shape"
      ],
      "metadata": {
        "colab": {
          "base_uri": "https://localhost:8080/"
        },
        "id": "LFK8Gkxlrqza",
        "outputId": "65e6d7a4-1ef1-4e80-bc64-f7f86809bcf8"
      },
      "execution_count": 36,
      "outputs": [
        {
          "output_type": "execute_result",
          "data": {
            "text/plain": [
              "(10519, 85)"
            ]
          },
          "metadata": {},
          "execution_count": 36
        }
      ]
    },
    {
      "cell_type": "code",
      "source": [
        "df_outl.describe()\n"
      ],
      "metadata": {
        "colab": {
          "base_uri": "https://localhost:8080/",
          "height": 309
        },
        "id": "Y-FB0bums2l6",
        "outputId": "f17a6620-96e4-4c70-91c5-ddb3e2e61436"
      },
      "execution_count": 37,
      "outputs": [
        {
          "output_type": "execute_result",
          "data": {
            "text/plain": [
              "         Respondent     CompTotal  ConvertedComp   WorkWeekHrs   CodeRevHrs  \\\n",
              "count  10519.000000  9.710000e+03    9703.000000  10402.000000  8277.000000   \n",
              "mean   12488.961023  7.243963e+05   59883.208389     41.895813     4.809352   \n",
              "std     7235.797316  7.184433e+06   43394.336755     24.301665     4.636411   \n",
              "min        4.000000  0.000000e+00       0.000000      3.000000     0.000000   \n",
              "25%     6257.500000  2.000000e+04   24060.000000     40.000000     2.000000   \n",
              "50%    12483.000000  6.300000e+04   52704.000000     40.000000     4.000000   \n",
              "75%    18789.500000  1.150000e+05   85574.500000     43.000000     5.000000   \n",
              "max    25142.000000  3.900000e+08  209356.000000   1012.000000    99.000000   \n",
              "\n",
              "                Age  \n",
              "count  10250.000000  \n",
              "mean      30.647298  \n",
              "std        7.352928  \n",
              "min       16.000000  \n",
              "25%       25.000000  \n",
              "50%       29.000000  \n",
              "75%       34.000000  \n",
              "max       99.000000  "
            ],
            "text/html": [
              "\n",
              "  <div id=\"df-9239118e-80f8-44f8-9aed-2049f73780da\" class=\"colab-df-container\">\n",
              "    <div>\n",
              "<style scoped>\n",
              "    .dataframe tbody tr th:only-of-type {\n",
              "        vertical-align: middle;\n",
              "    }\n",
              "\n",
              "    .dataframe tbody tr th {\n",
              "        vertical-align: top;\n",
              "    }\n",
              "\n",
              "    .dataframe thead th {\n",
              "        text-align: right;\n",
              "    }\n",
              "</style>\n",
              "<table border=\"1\" class=\"dataframe\">\n",
              "  <thead>\n",
              "    <tr style=\"text-align: right;\">\n",
              "      <th></th>\n",
              "      <th>Respondent</th>\n",
              "      <th>CompTotal</th>\n",
              "      <th>ConvertedComp</th>\n",
              "      <th>WorkWeekHrs</th>\n",
              "      <th>CodeRevHrs</th>\n",
              "      <th>Age</th>\n",
              "    </tr>\n",
              "  </thead>\n",
              "  <tbody>\n",
              "    <tr>\n",
              "      <th>count</th>\n",
              "      <td>10519.000000</td>\n",
              "      <td>9.710000e+03</td>\n",
              "      <td>9703.000000</td>\n",
              "      <td>10402.000000</td>\n",
              "      <td>8277.000000</td>\n",
              "      <td>10250.000000</td>\n",
              "    </tr>\n",
              "    <tr>\n",
              "      <th>mean</th>\n",
              "      <td>12488.961023</td>\n",
              "      <td>7.243963e+05</td>\n",
              "      <td>59883.208389</td>\n",
              "      <td>41.895813</td>\n",
              "      <td>4.809352</td>\n",
              "      <td>30.647298</td>\n",
              "    </tr>\n",
              "    <tr>\n",
              "      <th>std</th>\n",
              "      <td>7235.797316</td>\n",
              "      <td>7.184433e+06</td>\n",
              "      <td>43394.336755</td>\n",
              "      <td>24.301665</td>\n",
              "      <td>4.636411</td>\n",
              "      <td>7.352928</td>\n",
              "    </tr>\n",
              "    <tr>\n",
              "      <th>min</th>\n",
              "      <td>4.000000</td>\n",
              "      <td>0.000000e+00</td>\n",
              "      <td>0.000000</td>\n",
              "      <td>3.000000</td>\n",
              "      <td>0.000000</td>\n",
              "      <td>16.000000</td>\n",
              "    </tr>\n",
              "    <tr>\n",
              "      <th>25%</th>\n",
              "      <td>6257.500000</td>\n",
              "      <td>2.000000e+04</td>\n",
              "      <td>24060.000000</td>\n",
              "      <td>40.000000</td>\n",
              "      <td>2.000000</td>\n",
              "      <td>25.000000</td>\n",
              "    </tr>\n",
              "    <tr>\n",
              "      <th>50%</th>\n",
              "      <td>12483.000000</td>\n",
              "      <td>6.300000e+04</td>\n",
              "      <td>52704.000000</td>\n",
              "      <td>40.000000</td>\n",
              "      <td>4.000000</td>\n",
              "      <td>29.000000</td>\n",
              "    </tr>\n",
              "    <tr>\n",
              "      <th>75%</th>\n",
              "      <td>18789.500000</td>\n",
              "      <td>1.150000e+05</td>\n",
              "      <td>85574.500000</td>\n",
              "      <td>43.000000</td>\n",
              "      <td>5.000000</td>\n",
              "      <td>34.000000</td>\n",
              "    </tr>\n",
              "    <tr>\n",
              "      <th>max</th>\n",
              "      <td>25142.000000</td>\n",
              "      <td>3.900000e+08</td>\n",
              "      <td>209356.000000</td>\n",
              "      <td>1012.000000</td>\n",
              "      <td>99.000000</td>\n",
              "      <td>99.000000</td>\n",
              "    </tr>\n",
              "  </tbody>\n",
              "</table>\n",
              "</div>\n",
              "    <div class=\"colab-df-buttons\">\n",
              "\n",
              "  <div class=\"colab-df-container\">\n",
              "    <button class=\"colab-df-convert\" onclick=\"convertToInteractive('df-9239118e-80f8-44f8-9aed-2049f73780da')\"\n",
              "            title=\"Convert this dataframe to an interactive table.\"\n",
              "            style=\"display:none;\">\n",
              "\n",
              "  <svg xmlns=\"http://www.w3.org/2000/svg\" height=\"24px\" viewBox=\"0 -960 960 960\">\n",
              "    <path d=\"M120-120v-720h720v720H120Zm60-500h600v-160H180v160Zm220 220h160v-160H400v160Zm0 220h160v-160H400v160ZM180-400h160v-160H180v160Zm440 0h160v-160H620v160ZM180-180h160v-160H180v160Zm440 0h160v-160H620v160Z\"/>\n",
              "  </svg>\n",
              "    </button>\n",
              "\n",
              "  <style>\n",
              "    .colab-df-container {\n",
              "      display:flex;\n",
              "      gap: 12px;\n",
              "    }\n",
              "\n",
              "    .colab-df-convert {\n",
              "      background-color: #E8F0FE;\n",
              "      border: none;\n",
              "      border-radius: 50%;\n",
              "      cursor: pointer;\n",
              "      display: none;\n",
              "      fill: #1967D2;\n",
              "      height: 32px;\n",
              "      padding: 0 0 0 0;\n",
              "      width: 32px;\n",
              "    }\n",
              "\n",
              "    .colab-df-convert:hover {\n",
              "      background-color: #E2EBFA;\n",
              "      box-shadow: 0px 1px 2px rgba(60, 64, 67, 0.3), 0px 1px 3px 1px rgba(60, 64, 67, 0.15);\n",
              "      fill: #174EA6;\n",
              "    }\n",
              "\n",
              "    .colab-df-buttons div {\n",
              "      margin-bottom: 4px;\n",
              "    }\n",
              "\n",
              "    [theme=dark] .colab-df-convert {\n",
              "      background-color: #3B4455;\n",
              "      fill: #D2E3FC;\n",
              "    }\n",
              "\n",
              "    [theme=dark] .colab-df-convert:hover {\n",
              "      background-color: #434B5C;\n",
              "      box-shadow: 0px 1px 3px 1px rgba(0, 0, 0, 0.15);\n",
              "      filter: drop-shadow(0px 1px 2px rgba(0, 0, 0, 0.3));\n",
              "      fill: #FFFFFF;\n",
              "    }\n",
              "  </style>\n",
              "\n",
              "    <script>\n",
              "      const buttonEl =\n",
              "        document.querySelector('#df-9239118e-80f8-44f8-9aed-2049f73780da button.colab-df-convert');\n",
              "      buttonEl.style.display =\n",
              "        google.colab.kernel.accessAllowed ? 'block' : 'none';\n",
              "\n",
              "      async function convertToInteractive(key) {\n",
              "        const element = document.querySelector('#df-9239118e-80f8-44f8-9aed-2049f73780da');\n",
              "        const dataTable =\n",
              "          await google.colab.kernel.invokeFunction('convertToInteractive',\n",
              "                                                    [key], {});\n",
              "        if (!dataTable) return;\n",
              "\n",
              "        const docLinkHtml = 'Like what you see? Visit the ' +\n",
              "          '<a target=\"_blank\" href=https://colab.research.google.com/notebooks/data_table.ipynb>data table notebook</a>'\n",
              "          + ' to learn more about interactive tables.';\n",
              "        element.innerHTML = '';\n",
              "        dataTable['output_type'] = 'display_data';\n",
              "        await google.colab.output.renderOutput(dataTable, element);\n",
              "        const docLink = document.createElement('div');\n",
              "        docLink.innerHTML = docLinkHtml;\n",
              "        element.appendChild(docLink);\n",
              "      }\n",
              "    </script>\n",
              "  </div>\n",
              "\n",
              "\n",
              "<div id=\"df-cf431308-5593-418c-bc24-69ce8a63d77f\">\n",
              "  <button class=\"colab-df-quickchart\" onclick=\"quickchart('df-cf431308-5593-418c-bc24-69ce8a63d77f')\"\n",
              "            title=\"Suggest charts\"\n",
              "            style=\"display:none;\">\n",
              "\n",
              "<svg xmlns=\"http://www.w3.org/2000/svg\" height=\"24px\"viewBox=\"0 0 24 24\"\n",
              "     width=\"24px\">\n",
              "    <g>\n",
              "        <path d=\"M19 3H5c-1.1 0-2 .9-2 2v14c0 1.1.9 2 2 2h14c1.1 0 2-.9 2-2V5c0-1.1-.9-2-2-2zM9 17H7v-7h2v7zm4 0h-2V7h2v10zm4 0h-2v-4h2v4z\"/>\n",
              "    </g>\n",
              "</svg>\n",
              "  </button>\n",
              "\n",
              "<style>\n",
              "  .colab-df-quickchart {\n",
              "      --bg-color: #E8F0FE;\n",
              "      --fill-color: #1967D2;\n",
              "      --hover-bg-color: #E2EBFA;\n",
              "      --hover-fill-color: #174EA6;\n",
              "      --disabled-fill-color: #AAA;\n",
              "      --disabled-bg-color: #DDD;\n",
              "  }\n",
              "\n",
              "  [theme=dark] .colab-df-quickchart {\n",
              "      --bg-color: #3B4455;\n",
              "      --fill-color: #D2E3FC;\n",
              "      --hover-bg-color: #434B5C;\n",
              "      --hover-fill-color: #FFFFFF;\n",
              "      --disabled-bg-color: #3B4455;\n",
              "      --disabled-fill-color: #666;\n",
              "  }\n",
              "\n",
              "  .colab-df-quickchart {\n",
              "    background-color: var(--bg-color);\n",
              "    border: none;\n",
              "    border-radius: 50%;\n",
              "    cursor: pointer;\n",
              "    display: none;\n",
              "    fill: var(--fill-color);\n",
              "    height: 32px;\n",
              "    padding: 0;\n",
              "    width: 32px;\n",
              "  }\n",
              "\n",
              "  .colab-df-quickchart:hover {\n",
              "    background-color: var(--hover-bg-color);\n",
              "    box-shadow: 0 1px 2px rgba(60, 64, 67, 0.3), 0 1px 3px 1px rgba(60, 64, 67, 0.15);\n",
              "    fill: var(--button-hover-fill-color);\n",
              "  }\n",
              "\n",
              "  .colab-df-quickchart-complete:disabled,\n",
              "  .colab-df-quickchart-complete:disabled:hover {\n",
              "    background-color: var(--disabled-bg-color);\n",
              "    fill: var(--disabled-fill-color);\n",
              "    box-shadow: none;\n",
              "  }\n",
              "\n",
              "  .colab-df-spinner {\n",
              "    border: 2px solid var(--fill-color);\n",
              "    border-color: transparent;\n",
              "    border-bottom-color: var(--fill-color);\n",
              "    animation:\n",
              "      spin 1s steps(1) infinite;\n",
              "  }\n",
              "\n",
              "  @keyframes spin {\n",
              "    0% {\n",
              "      border-color: transparent;\n",
              "      border-bottom-color: var(--fill-color);\n",
              "      border-left-color: var(--fill-color);\n",
              "    }\n",
              "    20% {\n",
              "      border-color: transparent;\n",
              "      border-left-color: var(--fill-color);\n",
              "      border-top-color: var(--fill-color);\n",
              "    }\n",
              "    30% {\n",
              "      border-color: transparent;\n",
              "      border-left-color: var(--fill-color);\n",
              "      border-top-color: var(--fill-color);\n",
              "      border-right-color: var(--fill-color);\n",
              "    }\n",
              "    40% {\n",
              "      border-color: transparent;\n",
              "      border-right-color: var(--fill-color);\n",
              "      border-top-color: var(--fill-color);\n",
              "    }\n",
              "    60% {\n",
              "      border-color: transparent;\n",
              "      border-right-color: var(--fill-color);\n",
              "    }\n",
              "    80% {\n",
              "      border-color: transparent;\n",
              "      border-right-color: var(--fill-color);\n",
              "      border-bottom-color: var(--fill-color);\n",
              "    }\n",
              "    90% {\n",
              "      border-color: transparent;\n",
              "      border-bottom-color: var(--fill-color);\n",
              "    }\n",
              "  }\n",
              "</style>\n",
              "\n",
              "  <script>\n",
              "    async function quickchart(key) {\n",
              "      const quickchartButtonEl =\n",
              "        document.querySelector('#' + key + ' button');\n",
              "      quickchartButtonEl.disabled = true;  // To prevent multiple clicks.\n",
              "      quickchartButtonEl.classList.add('colab-df-spinner');\n",
              "      try {\n",
              "        const charts = await google.colab.kernel.invokeFunction(\n",
              "            'suggestCharts', [key], {});\n",
              "      } catch (error) {\n",
              "        console.error('Error during call to suggestCharts:', error);\n",
              "      }\n",
              "      quickchartButtonEl.classList.remove('colab-df-spinner');\n",
              "      quickchartButtonEl.classList.add('colab-df-quickchart-complete');\n",
              "    }\n",
              "    (() => {\n",
              "      let quickchartButtonEl =\n",
              "        document.querySelector('#df-cf431308-5593-418c-bc24-69ce8a63d77f button');\n",
              "      quickchartButtonEl.style.display =\n",
              "        google.colab.kernel.accessAllowed ? 'block' : 'none';\n",
              "    })();\n",
              "  </script>\n",
              "</div>\n",
              "\n",
              "    </div>\n",
              "  </div>\n"
            ],
            "application/vnd.google.colaboratory.intrinsic+json": {
              "type": "dataframe",
              "summary": "{\n  \"name\": \"df_outl\",\n  \"rows\": 8,\n  \"fields\": [\n    {\n      \"column\": \"Respondent\",\n      \"properties\": {\n        \"dtype\": \"number\",\n        \"std\": 7744.7417232028765,\n        \"min\": 4.0,\n        \"max\": 25142.0,\n        \"num_unique_values\": 8,\n        \"samples\": [\n          12488.961022910924,\n          12483.0,\n          10519.0\n        ],\n        \"semantic_type\": \"\",\n        \"description\": \"\"\n      }\n    },\n    {\n      \"column\": \"CompTotal\",\n      \"properties\": {\n        \"dtype\": \"number\",\n        \"std\": 137498083.70133868,\n        \"min\": 0.0,\n        \"max\": 390000000.0,\n        \"num_unique_values\": 8,\n        \"samples\": [\n          724396.3412976313,\n          63000.0,\n          9710.0\n        ],\n        \"semantic_type\": \"\",\n        \"description\": \"\"\n      }\n    },\n    {\n      \"column\": \"ConvertedComp\",\n      \"properties\": {\n        \"dtype\": \"number\",\n        \"std\": 66234.43525782284,\n        \"min\": 0.0,\n        \"max\": 209356.0,\n        \"num_unique_values\": 8,\n        \"samples\": [\n          59883.20838915799,\n          52704.0,\n          9703.0\n        ],\n        \"semantic_type\": \"\",\n        \"description\": \"\"\n      }\n    },\n    {\n      \"column\": \"WorkWeekHrs\",\n      \"properties\": {\n        \"dtype\": \"number\",\n        \"std\": 3633.085550906156,\n        \"min\": 3.0,\n        \"max\": 10402.0,\n        \"num_unique_values\": 7,\n        \"samples\": [\n          10402.0,\n          41.89581330513362,\n          43.0\n        ],\n        \"semantic_type\": \"\",\n        \"description\": \"\"\n      }\n    },\n    {\n      \"column\": \"CodeRevHrs\",\n      \"properties\": {\n        \"dtype\": \"number\",\n        \"std\": 2920.5205491211245,\n        \"min\": 0.0,\n        \"max\": 8277.0,\n        \"num_unique_values\": 8,\n        \"samples\": [\n          4.809352422375257,\n          4.0,\n          8277.0\n        ],\n        \"semantic_type\": \"\",\n        \"description\": \"\"\n      }\n    },\n    {\n      \"column\": \"Age\",\n      \"properties\": {\n        \"dtype\": \"number\",\n        \"std\": 3611.8562027831376,\n        \"min\": 7.352927511794248,\n        \"max\": 10250.0,\n        \"num_unique_values\": 8,\n        \"samples\": [\n          30.64729756097561,\n          29.0,\n          10250.0\n        ],\n        \"semantic_type\": \"\",\n        \"description\": \"\"\n      }\n    }\n  ]\n}"
            }
          },
          "metadata": {},
          "execution_count": 37
        }
      ]
    },
    {
      "cell_type": "markdown",
      "source": [
        "## Correlation\n"
      ],
      "metadata": {
        "id": "PHj7T1olqaJZ"
      }
    },
    {
      "cell_type": "markdown",
      "source": [
        "### Finding correlation\n",
        "\n",
        "Find the correlation between `Age` and all other numerical columns.\n"
      ],
      "metadata": {
        "id": "yTDB2nVzqaH6"
      }
    },
    {
      "cell_type": "code",
      "source": [
        "# Check for non-numeric values in each column\n",
        "for col in df.columns:\n",
        "    non_numeric_values = df[col].apply(lambda x: not isinstance(x, (int, float)))\n",
        "    if non_numeric_values.any():\n",
        "        print(f\"Column '{col}' contains non-numeric values.\")"
      ],
      "metadata": {
        "colab": {
          "base_uri": "https://localhost:8080/"
        },
        "id": "Vrd08yK6tV9S",
        "outputId": "5faad8d8-5187-4254-bcf2-3b008b520787"
      },
      "execution_count": 40,
      "outputs": [
        {
          "output_type": "stream",
          "name": "stdout",
          "text": [
            "Column 'MainBranch' contains non-numeric values.\n",
            "Column 'Hobbyist' contains non-numeric values.\n",
            "Column 'OpenSourcer' contains non-numeric values.\n",
            "Column 'OpenSource' contains non-numeric values.\n",
            "Column 'Employment' contains non-numeric values.\n",
            "Column 'Country' contains non-numeric values.\n",
            "Column 'Student' contains non-numeric values.\n",
            "Column 'EdLevel' contains non-numeric values.\n",
            "Column 'UndergradMajor' contains non-numeric values.\n",
            "Column 'EduOther' contains non-numeric values.\n",
            "Column 'OrgSize' contains non-numeric values.\n",
            "Column 'DevType' contains non-numeric values.\n",
            "Column 'YearsCode' contains non-numeric values.\n",
            "Column 'Age1stCode' contains non-numeric values.\n",
            "Column 'YearsCodePro' contains non-numeric values.\n",
            "Column 'CareerSat' contains non-numeric values.\n",
            "Column 'JobSat' contains non-numeric values.\n",
            "Column 'MgrIdiot' contains non-numeric values.\n",
            "Column 'MgrMoney' contains non-numeric values.\n",
            "Column 'MgrWant' contains non-numeric values.\n",
            "Column 'JobSeek' contains non-numeric values.\n",
            "Column 'LastHireDate' contains non-numeric values.\n",
            "Column 'LastInt' contains non-numeric values.\n",
            "Column 'FizzBuzz' contains non-numeric values.\n",
            "Column 'JobFactors' contains non-numeric values.\n",
            "Column 'ResumeUpdate' contains non-numeric values.\n",
            "Column 'CurrencySymbol' contains non-numeric values.\n",
            "Column 'CurrencyDesc' contains non-numeric values.\n",
            "Column 'CompFreq' contains non-numeric values.\n",
            "Column 'WorkPlan' contains non-numeric values.\n",
            "Column 'WorkChallenge' contains non-numeric values.\n",
            "Column 'WorkRemote' contains non-numeric values.\n",
            "Column 'WorkLoc' contains non-numeric values.\n",
            "Column 'ImpSyn' contains non-numeric values.\n",
            "Column 'CodeRev' contains non-numeric values.\n",
            "Column 'UnitTests' contains non-numeric values.\n",
            "Column 'PurchaseHow' contains non-numeric values.\n",
            "Column 'PurchaseWhat' contains non-numeric values.\n",
            "Column 'LanguageWorkedWith' contains non-numeric values.\n",
            "Column 'LanguageDesireNextYear' contains non-numeric values.\n",
            "Column 'DatabaseWorkedWith' contains non-numeric values.\n",
            "Column 'DatabaseDesireNextYear' contains non-numeric values.\n",
            "Column 'PlatformWorkedWith' contains non-numeric values.\n",
            "Column 'PlatformDesireNextYear' contains non-numeric values.\n",
            "Column 'WebFrameWorkedWith' contains non-numeric values.\n",
            "Column 'WebFrameDesireNextYear' contains non-numeric values.\n",
            "Column 'MiscTechWorkedWith' contains non-numeric values.\n",
            "Column 'MiscTechDesireNextYear' contains non-numeric values.\n",
            "Column 'DevEnviron' contains non-numeric values.\n",
            "Column 'OpSys' contains non-numeric values.\n",
            "Column 'Containers' contains non-numeric values.\n",
            "Column 'BlockchainOrg' contains non-numeric values.\n",
            "Column 'BlockchainIs' contains non-numeric values.\n",
            "Column 'BetterLife' contains non-numeric values.\n",
            "Column 'ITperson' contains non-numeric values.\n",
            "Column 'OffOn' contains non-numeric values.\n",
            "Column 'SocialMedia' contains non-numeric values.\n",
            "Column 'Extraversion' contains non-numeric values.\n",
            "Column 'ScreenName' contains non-numeric values.\n",
            "Column 'SOVisit1st' contains non-numeric values.\n",
            "Column 'SOVisitFreq' contains non-numeric values.\n",
            "Column 'SOVisitTo' contains non-numeric values.\n",
            "Column 'SOFindAnswer' contains non-numeric values.\n",
            "Column 'SOTimeSaved' contains non-numeric values.\n",
            "Column 'SOHowMuchTime' contains non-numeric values.\n",
            "Column 'SOAccount' contains non-numeric values.\n",
            "Column 'SOPartFreq' contains non-numeric values.\n",
            "Column 'SOJobs' contains non-numeric values.\n",
            "Column 'EntTeams' contains non-numeric values.\n",
            "Column 'SOComm' contains non-numeric values.\n",
            "Column 'WelcomeChange' contains non-numeric values.\n",
            "Column 'SONewContent' contains non-numeric values.\n",
            "Column 'Gender' contains non-numeric values.\n",
            "Column 'Trans' contains non-numeric values.\n",
            "Column 'Sexuality' contains non-numeric values.\n",
            "Column 'Ethnicity' contains non-numeric values.\n",
            "Column 'Dependents' contains non-numeric values.\n",
            "Column 'SurveyLength' contains non-numeric values.\n",
            "Column 'SurveyEase' contains non-numeric values.\n"
          ]
        }
      ]
    },
    {
      "cell_type": "code",
      "source": [
        "# Drop rows containing non-numeric values in the identified column\n",
        "df = df.drop(df[df['Age'].apply(lambda x: not isinstance(x, (int, float)))].index)"
      ],
      "metadata": {
        "id": "K9ZXwQHGtZgM"
      },
      "execution_count": 42,
      "outputs": []
    },
    {
      "cell_type": "code",
      "source": [
        "# Replace non-numeric values with NaN\n",
        "df['Age'] = df['Age'].apply(lambda x: np.nan if not isinstance(x, (int, float)) else x)\n",
        "df.corr()"
      ],
      "metadata": {
        "id": "7KexbSlAtjzY"
      },
      "execution_count": 43,
      "outputs": []
    }
  ]
}